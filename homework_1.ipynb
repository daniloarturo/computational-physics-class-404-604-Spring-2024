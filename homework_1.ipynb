{
 "cells": [
  {
   "cell_type": "code",
   "execution_count": 1,
   "id": "298afa6b-3682-42f9-9eb9-0573b98dbaf7",
   "metadata": {},
   "outputs": [
    {
     "name": "stdout",
     "output_type": "stream",
     "text": [
      "Hello Jupyter lab\n"
     ]
    }
   ],
   "source": [
    "#By Danilo Arturo\n",
    "\n",
    "print(\"Hello Jupyter lab\")"
   ]
  },
  {
   "cell_type": "code",
   "execution_count": 3,
   "id": "f0208938-cc6c-4510-950b-6ed15bcaef7c",
   "metadata": {},
   "outputs": [
    {
     "name": "stdout",
     "output_type": "stream",
     "text": [
      "x+y = 9.4\n",
      "x-y = -3.4000000000000004\n",
      "y-x = 3.4000000000000004\n"
     ]
    }
   ],
   "source": [
    "x = 3\n",
    "\n",
    "y = 6.4\n",
    "\n",
    "print(\"x+y =\",x+y)\n",
    "print(\"x-y =\",x-y)\n",
    "print(\"y-x =\",y-x)\n"
   ]
  },
  {
   "cell_type": "code",
   "execution_count": null,
   "id": "3e6c1b07-2d3e-4b39-a8a1-29b324751846",
   "metadata": {},
   "outputs": [],
   "source": []
  }
 ],
 "metadata": {
  "kernelspec": {
   "display_name": "Python 3 (ipykernel)",
   "language": "python",
   "name": "python3"
  },
  "language_info": {
   "codemirror_mode": {
    "name": "ipython",
    "version": 3
   },
   "file_extension": ".py",
   "mimetype": "text/x-python",
   "name": "python",
   "nbconvert_exporter": "python",
   "pygments_lexer": "ipython3",
   "version": "3.9.16"
  }
 },
 "nbformat": 4,
 "nbformat_minor": 5
}
